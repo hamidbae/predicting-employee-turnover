{
 "cells": [
  {
   "cell_type": "code",
   "execution_count": 1,
   "metadata": {},
   "outputs": [],
   "source": [
    "import numpy as np\n",
    "import pandas as pd\n",
    "from sklearn.svm import SVC\n",
    "from sklearn.model_selection import train_test_split\n",
    "from sklearn.preprocessing import LabelEncoder, MinMaxScaler, StandardScaler\n",
    "from imblearn.over_sampling import SMOTENC\n",
    "from imblearn.under_sampling import EditedNearestNeighbours\n",
    "from imblearn.pipeline import make_pipeline\n",
    "from sklearn.metrics import confusion_matrix, ConfusionMatrixDisplay\n",
    "from BGWOPSO import BGWOPSO\n",
    "# from GWO import GWO\n",
    "import functools\n",
    "import pickle"
   ]
  },
  {
   "cell_type": "code",
   "execution_count": 2,
   "metadata": {},
   "outputs": [
    {
     "data": {
      "text/plain": [
       "(1470, 35)"
      ]
     },
     "execution_count": 2,
     "metadata": {},
     "output_type": "execute_result"
    }
   ],
   "source": [
    "data = pd.read_csv(\"./data/employee.csv\")\n",
    "attrition = data[\"Attrition\"]\n",
    "data = data.drop(\"Attrition\",axis=1)\n",
    "data[\"Attrition\"] = attrition\n",
    "# data.to_csv(\"./data/employee_class_right.csv\", index=False)\n",
    "data.shape"
   ]
  },
  {
   "cell_type": "code",
   "execution_count": null,
   "metadata": {},
   "outputs": [],
   "source": [
    "# data[\"Attrition\"].value_counts()"
   ]
  },
  {
   "cell_type": "code",
   "execution_count": null,
   "metadata": {},
   "outputs": [],
   "source": [
    "# data.describe()"
   ]
  },
  {
   "cell_type": "code",
   "execution_count": null,
   "metadata": {},
   "outputs": [],
   "source": [
    "# data.info()"
   ]
  },
  {
   "cell_type": "code",
   "execution_count": 3,
   "metadata": {},
   "outputs": [],
   "source": [
    "objectList = data.select_dtypes(include = \"object\").columns.to_list()\n",
    "nonObjectList = data.select_dtypes(exclude=\"object\").columns.to_list()"
   ]
  },
  {
   "cell_type": "code",
   "execution_count": 4,
   "metadata": {},
   "outputs": [],
   "source": [
    "for x in [\"Education\", 'EnvironmentSatisfaction', \"JobInvolvement\", \"JobLevel\", \"JobSatisfaction\", \"PerformanceRating\", \"RelationshipSatisfaction\", \"StockOptionLevel\", \"WorkLifeBalance\"]:\n",
    "    nonObjectList.remove(x)\n",
    "    objectList.append(x)"
   ]
  },
  {
   "cell_type": "code",
   "execution_count": null,
   "metadata": {},
   "outputs": [],
   "source": [
    "# print(nonObjectList)\n",
    "# print(objectList)"
   ]
  },
  {
   "cell_type": "code",
   "execution_count": 5,
   "metadata": {},
   "outputs": [],
   "source": [
    "le = LabelEncoder()\n",
    "data_encoded = data.copy()\n",
    "\n",
    "for object in objectList:\n",
    "    le.fit(data[object])\n",
    "    data_encoded[object] = le.transform(data[object])\n",
    "    # pickle.dump(le, open('./model/encode/{}.pkl'.format(object), 'wb'))\n",
    "\n",
    "# data.to_csv(\"./data/data_encoded.csv\", index=False)\n",
    "# pickle.dump(scaler, open('./model/minmaxscaler.pkl', 'wb'))\n",
    "# data_encoded"
   ]
  },
  {
   "cell_type": "code",
   "execution_count": null,
   "metadata": {},
   "outputs": [],
   "source": [
    "# np.sort(data_encoded['MonthlyIncome'].unique())"
   ]
  },
  {
   "cell_type": "code",
   "execution_count": 6,
   "metadata": {},
   "outputs": [],
   "source": [
    "scaler = MinMaxScaler()\n",
    "data_normalized = data.copy()\n",
    "\n",
    "for column in data_encoded.columns:\n",
    "    scaler.fit(data_encoded[column].values.reshape(-1,1))\n",
    "    data_normalized[column] = scaler.transform(data_encoded[column].values.reshape(-1,1))\n",
    "#     pickle.dump(scaler, open('./model/scale/{}.pkl'.format(column), 'wb'))\n",
    "# data_normalized.to_csv(\"./data/data_normalized.csv\", index=False)\n",
    "# data_normalized"
   ]
  },
  {
   "cell_type": "code",
   "execution_count": 7,
   "metadata": {},
   "outputs": [],
   "source": [
    "X = data_normalized.drop(\"Attrition\", axis=1).values\n",
    "y = data_normalized[\"Attrition\"].values"
   ]
  },
  {
   "cell_type": "code",
   "execution_count": 8,
   "metadata": {},
   "outputs": [],
   "source": [
    "cat_index = [data_normalized.columns.get_loc(c) for c in objectList if c in data_normalized.drop('Attrition', axis=1)]"
   ]
  },
  {
   "cell_type": "code",
   "execution_count": 9,
   "metadata": {},
   "outputs": [],
   "source": [
    "X_train, X_test, y_train, y_test = train_test_split(X, y, test_size=0.1, random_state=42, shuffle=True, stratify=y)\n",
    "# X_train.to_csv(\"./data/X_train.csv\")"
   ]
  },
  {
   "cell_type": "markdown",
   "metadata": {},
   "source": [
    "### Seleksi Fitur BGWOPSO"
   ]
  },
  {
   "cell_type": "code",
   "execution_count": 10,
   "metadata": {},
   "outputs": [],
   "source": [
    "from sklearn.metrics import accuracy_score, f1_score, precision_score, recall_score\n",
    "from sklearn.metrics import confusion_matrix"
   ]
  },
  {
   "cell_type": "code",
   "execution_count": 11,
   "metadata": {},
   "outputs": [],
   "source": [
    "def fitness(x, X_train, X_test, y_train, y_test):\n",
    "    alpha = 0.99\n",
    "    beta = 1-alpha\n",
    "    if x.ndim == 1:\n",
    "        x = x.reshape(1, -1)\n",
    "    loss = np.zeros(x.shape[0])\n",
    "    for i in range(x.shape[0]):\n",
    "        if np.sum(x[i, :]) > 0:\n",
    "            model = SVC(C=10, gamma=0.1, kernel='rbf')\n",
    "            model.fit(X_train[:, x[i,:].astype(bool)], y_train)\n",
    "            acc = model.score(X_test[:, x[i,:].astype(bool)], y_test)\n",
    "            error_rate = 1 - acc\n",
    "            loss[i] = alpha * error_rate + beta * (np.sum(x[i, :]) / X.shape[1])\n",
    "        else:\n",
    "            loss[i] = np.inf\n",
    "    return loss"
   ]
  },
  {
   "cell_type": "code",
   "execution_count": 12,
   "metadata": {},
   "outputs": [
    {
     "name": "stdout",
     "output_type": "stream",
     "text": [
      "[False  True  True  True  True False  True False  True  True  True False\n",
      " False  True  True  True  True  True  True  True False  True  True False\n",
      "  True False  True  True  True False False  True  True  True]\n"
     ]
    }
   ],
   "source": [
    "lossfunc_bgwopso = functools.partial(fitness, X_train=X_train, X_test=X_test, y_train=y_train, y_test=y_test)\n",
    "optimizer_bgwopso = BGWOPSO(lossfunc_bgwopso, X_train.shape[1], 8, 70)\n",
    "optimizer_bgwopso.opt()\n",
    "selected_features_bgwopso = optimizer_bgwopso.gBest_X.astype(bool)\n",
    "print(selected_features_bgwopso)"
   ]
  },
  {
   "cell_type": "code",
   "execution_count": null,
   "metadata": {},
   "outputs": [],
   "source": [
    "optimizer_bgwopso.plot_curve()"
   ]
  },
  {
   "cell_type": "code",
   "execution_count": null,
   "metadata": {},
   "outputs": [],
   "source": [
    "np.array([3,4,5]).reshape(1, -1).shape"
   ]
  },
  {
   "cell_type": "code",
   "execution_count": 13,
   "metadata": {},
   "outputs": [],
   "source": [
    "data_selected = data.loc[:, np.append(selected_features_bgwopso, True)]\n",
    "# data_selected.to_csv(\"./data/data_selected.csv\", index=False)"
   ]
  },
  {
   "cell_type": "code",
   "execution_count": null,
   "metadata": {},
   "outputs": [],
   "source": [
    "# data_train = pd.DataFrame(X_train[:, selected_features_bgwopso])\n",
    "# data_train[data.columns[-1]] = y_train\n",
    "# data_train.columns = data_selected.columns\n",
    "# data_train.to_csv(\"./data/data_train.csv\", index=False)\n",
    "\n",
    "# data_test = pd.DataFrame(X_test[:, selected_features_bgwopso])\n",
    "# data_test[data.columns[-1]] = y_test\n",
    "# data_test.columns = data_selected.columns\n",
    "# data_test.to_csv(\"./data/data_test.csv\", index=False)"
   ]
  },
  {
   "cell_type": "code",
   "execution_count": 14,
   "metadata": {},
   "outputs": [
    {
     "name": "stdout",
     "output_type": "stream",
     "text": [
      "0. BusinessTravel\n",
      "1. DailyRate\n",
      "2. Department\n",
      "3. DistanceFromHome\n",
      "4. EducationField\n",
      "5. EmployeeNumber\n",
      "6. EnvironmentSatisfaction\n",
      "7. Gender\n",
      "8. JobLevel\n",
      "9. JobRole\n",
      "10. JobSatisfaction\n",
      "11. MaritalStatus\n",
      "12. MonthlyIncome\n",
      "13. MonthlyRate\n",
      "14. NumCompaniesWorked\n",
      "15. OverTime\n",
      "16. PercentSalaryHike\n",
      "17. RelationshipSatisfaction\n",
      "18. StockOptionLevel\n",
      "19. TotalWorkingYears\n",
      "20. TrainingTimesLastYear\n",
      "21. YearsInCurrentRole\n",
      "22. YearsSinceLastPromotion\n",
      "23. YearsWithCurrManager\n",
      "24. Attrition\n"
     ]
    }
   ],
   "source": [
    "# print(\"list of all selected features: \")\n",
    "# for i, feature in enumerate(data.columns[np.where(selected_features_bgwopso)], start=1):\n",
    "for i, feature in enumerate(data_selected):\n",
    "    print(f\"{i}. {feature}\")"
   ]
  },
  {
   "cell_type": "code",
   "execution_count": null,
   "metadata": {},
   "outputs": [],
   "source": [
    "# 1. BusinessTravel\n",
    "# 2. DailyRate\n",
    "# 3. Department\n",
    "# 4. DistanceFromHome\n",
    "# 5. EducationField\n",
    "# 6. EmployeeNumber\n",
    "# 7. EnvironmentSatisfaction\n",
    "# 8. Gender\n",
    "# 9. JobLevel\n",
    "# 10. JobRole\n",
    "# 11. JobSatisfaction\n",
    "# 12. MaritalStatus\n",
    "# 13. MonthlyIncome\n",
    "# 14. MonthlyRate\n",
    "# 15. NumCompaniesWorked\n",
    "# 16. OverTime\n",
    "# 17. PercentSalaryHike\n",
    "# 18. RelationshipSatisfaction\n",
    "# 19. StockOptionLevel\n",
    "# 20. TotalWorkingYears\n",
    "# 21. TrainingTimesLastYear\n",
    "# 22. YearsInCurrentRole\n",
    "# 23. YearsSinceLastPromotion\n",
    "# 24. YearsWithCurrManager"
   ]
  },
  {
   "cell_type": "code",
   "execution_count": 15,
   "metadata": {},
   "outputs": [
    {
     "name": "stdout",
     "output_type": "stream",
     "text": [
      "Accuracy = 90.48\n",
      "Precision  91.67\n",
      "Recall / Sensifity  45.83\n",
      "F1  61.11\n",
      "Specificity  99.19\n",
      "TN =  122\n",
      "FP =  1\n",
      "FN =  13\n",
      "TP =  11\n"
     ]
    }
   ],
   "source": [
    "# import pickle\n",
    "\n",
    "svm3 = SVC(C=10, gamma=0.1, kernel='rbf')\n",
    "svm3.fit(X_train[:, selected_features_bgwopso], y_train)\n",
    "y_pred3 = svm3.predict(X_test[:, selected_features_bgwopso])\n",
    "# svm3.fit(X_train, y_train)\n",
    "# y_pred3 = svm3.predict(X_test)\n",
    "# pickle.dump(svm3, open('./model/svm_model.pkl', 'wb'))\n",
    "\n",
    "\n",
    "print(\"Accuracy =\", round(accuracy_score(y_test,y_pred3)*100, 2))\n",
    "print(\"Precision \", round(precision_score(y_test, y_pred3)*100, 2))\n",
    "print(\"Recall / Sensifity \", round(recall_score(y_test, y_pred3)*100, 2))\n",
    "print(\"F1 \", round(f1_score(y_test, y_pred3)*100, 2))\n",
    "tn, fp, fn, tp = confusion_matrix(y_test, y_pred3).ravel()\n",
    "specificity = tn / (tn+fp)\n",
    "print(\"Specificity \", round(specificity*100, 2))\n",
    "print(\"TN = \", tn)\n",
    "print(\"FP = \", fp)\n",
    "print(\"FN = \", fn)\n",
    "print(\"TP = \", tp)"
   ]
  },
  {
   "cell_type": "code",
   "execution_count": null,
   "metadata": {},
   "outputs": [],
   "source": [
    "# evaluasi_test_data = data_test.copy()\n",
    "# evaluasi_test_data[\"Predicted\"] = y_pred3\n",
    "# evaluasi_test_data.to_csv(\"./data/evaluasi_test_data.csv\", index=False)"
   ]
  },
  {
   "cell_type": "code",
   "execution_count": null,
   "metadata": {},
   "outputs": [],
   "source": [
    "# from sklearn import metrics\n",
    "# import matplotlib.pyplot as plt\n",
    "# confusion_matrix = metrics.confusion_matrix(y_test, y_pred3)\n",
    "# cm_display = metrics.ConfusionMatrixDisplay(confusion_matrix = confusion_matrix, display_labels = [False, True])\n",
    "# cm_display.plot()\n",
    "# plt.savefig(\"./images/confusion_matrix_employee.jpg\")"
   ]
  },
  {
   "cell_type": "code",
   "execution_count": null,
   "metadata": {},
   "outputs": [],
   "source": [
    "# predicted = [\"predicted_false\", \"predicted_true\"]\n",
    "# actual = [\"actual_false\", \"actual_true\"]\n",
    "# df_cf = pd.DataFrame(columns = predicted, index = actual)\n",
    "# df_cf[\"predicted_false\"] = [tn, fn]\n",
    "# df_cf[\"predicted_true\"] = [fp, tp]"
   ]
  },
  {
   "cell_type": "code",
   "execution_count": null,
   "metadata": {},
   "outputs": [],
   "source": [
    "# # C = [0.001, 0.01, 0.1, 1, 10, 100, 1000]\n",
    "# # g = [0.001, 0.01, 0.1, 1, 10, 100, 1000]\n",
    "# C = [1, 10, 100, 1000]\n",
    "# g = [0.001, 0.01, 0.1, 1]\n",
    "# df_acc = pd.DataFrame(columns = C, index = g)\n",
    "# df_prec = pd.DataFrame(columns = C, index = g)\n",
    "# df_sens = pd.DataFrame(columns = C, index = g)\n",
    "# df_f1 = pd.DataFrame(columns = C, index = g)\n",
    "# df_spec = pd.DataFrame(columns = C, index = g)\n",
    "\n",
    "# for i in C:\n",
    "#     for j in g:\n",
    "#         # print(i, j)\n",
    "#         svm3 = SVC(C=i, gamma=j, kernel='rbf')\n",
    "#         # svm3 = SVC(C=i, gamma=j, kernel='poly')\n",
    "#         # svm3 = SVC(C=i, gamma=j, kernel='sigmoid')\n",
    "#         svm3.fit(X_train[:, selected_features_bgwopso], y_train)\n",
    "#         y_pred3 = svm3.predict(X_test[:, selected_features_bgwopso])\n",
    "#         # svm3.fit(X_train, y_train)\n",
    "#         # y_pred3 = svm3.predict(X_test)\n",
    "\n",
    "#         accuracy = round(accuracy_score(y_test,y_pred3)*100, 2)\n",
    "#         df_acc[i][j] = accuracy\n",
    "        \n",
    "#         precision = round(precision_score(y_test, y_pred3)*100, 2)\n",
    "#         df_prec[i][j] = precision\n",
    "\n",
    "#         sensifity = round(recall_score(y_test, y_pred3)*100, 2)\n",
    "#         df_sens[i][j] = sensifity\n",
    "\n",
    "#         F1 = round(f1_score(y_test, y_pred3)*100, 2)\n",
    "#         df_f1[i][j] = F1\n",
    "\n",
    "#         tn, fp, fn, tp = confusion_matrix(y_test, y_pred3).ravel()\n",
    "#         specificity = round(tn/(tn+fp)*100, 2)\n",
    "#         df_spec[i][j] = specificity\n",
    "\n",
    "# print(\"Accuracy\")\n",
    "# print(df_acc)\n",
    "# df_acc.to_excel(\"cm/accuracy.xlsx\")\n",
    "\n",
    "# print(\"Precision\")\n",
    "# print(df_prec)\n",
    "# df_prec.to_excel(\"cm/precision.xlsx\")\n",
    "\n",
    "# print(\"Sensifity\")\n",
    "# print(df_sens)\n",
    "# df_sens.to_excel(\"cm/sensifity.xlsx\")\n",
    "\n",
    "# print(\"F1 Score\")\n",
    "# print(df_f1)\n",
    "# df_f1.to_excel(\"cm/f1.xlsx\")\n",
    "\n",
    "# print(\"Specifity\") \n",
    "# print(df_spec) \n",
    "# df_spec.to_excel(\"cm/specifity.xlsx\")\n"
   ]
  },
  {
   "cell_type": "code",
   "execution_count": null,
   "metadata": {},
   "outputs": [],
   "source": [
    "# from sklearn.svm import LinearSVC\n",
    "\n",
    "# matrix_list = [\"Accuracy\", \"Precision\", \"Sensifity\", \"F1\", \"Specificity\"]\n",
    "# df_svm_linear = pd.DataFrame(columns = C, index = matrix_list)\n",
    "\n",
    "# for i in C:\n",
    "#     svm3 = LinearSVC(C=i)\n",
    "#     # svm3 = SVC(C=i, gamma=j, kernel='linear')\n",
    "#     svm3.fit(X_train[:, selected_features_bgwopso], y_train)\n",
    "#     y_pred3 = svm3.predict(X_test[:, selected_features_bgwopso])\n",
    "#     # svm3.fit(X_train, y_train)\n",
    "#     # y_pred3 = svm3.predict(X_test)\n",
    "\n",
    "#     accuracy = round(accuracy_score(y_test,y_pred3)*100, 2)\n",
    "#     df_svm_linear[i][\"Accuracy\"] = accuracy\n",
    "    \n",
    "#     precision = round(precision_score(y_test, y_pred3)*100, 2)\n",
    "#     df_svm_linear[i][\"Precision\"] = precision\n",
    "\n",
    "#     sensifity = round(recall_score(y_test, y_pred3)*100, 2)\n",
    "#     df_svm_linear[i][\"Sensifity\"] = sensifity\n",
    "\n",
    "#     F1 = round(f1_score(y_test, y_pred3)*100, 2)\n",
    "#     df_svm_linear[i][\"F1\"] = F1\n",
    "\n",
    "#     tn, fp, fn, tp = confusion_matrix(y_test, y_pred3).ravel()\n",
    "#     specificity = round(tn/(tn+fp)*100, 2)\n",
    "#     df_svm_linear[i][\"Specificity\"] = specificity\n",
    "\n",
    "# df_svm_linear.to_excel(\"cm/matrix_svm_linear.xlsx\")\n",
    "# print(df_svm_linear)"
   ]
  },
  {
   "cell_type": "code",
   "execution_count": null,
   "metadata": {},
   "outputs": [],
   "source": [
    "# evaluasi_test_data = pd.DataFrame(X_test[:, selected_features_bgwopso])\n",
    "# evaluasi_test_data.columns = data.columns[np.where(selected_features_bgwopso)]\n",
    "# evaluasi_test_data[\"Actual\"] = y_test\n",
    "# evaluasi_test_data[\"Predicted\"] = y_pred3\n",
    "# evaluasi_test_data.to_excel(\"evaluasi_test_data.xlsx\")"
   ]
  },
  {
   "cell_type": "markdown",
   "metadata": {},
   "source": [
    "### Seleksi Fitur GWO"
   ]
  },
  {
   "cell_type": "code",
   "execution_count": null,
   "metadata": {},
   "outputs": [],
   "source": [
    "# lossfunc_gwo = functools.partial(fitness, X_train=X_train, X_test=X_test, y_train=y_train, y_test=y_test)\n",
    "# fit_optimizer_gwo = GWO(lossfunc_gwo, 0, 1, X_train.shape[1], 10, 20)\n",
    "# selected_features_gwo = np.where(fit_optimizer_gwo>0.5)[0]\n",
    "# print(selected_features_gwo)"
   ]
  },
  {
   "cell_type": "code",
   "execution_count": null,
   "metadata": {},
   "outputs": [],
   "source": [
    "# svm2 = SVC(C=10, gamma=0.1, kernel='rbf')\n",
    "# svm2.fit(X_train[:, selected_features_gwo], y_train)\n",
    "# y_pred2 = svm2.predict(X_test[:, selected_features_gwo])\n",
    "\n",
    "# print(\"Accuracy \", accuracy_score(y_test,y_pred2))\n",
    "# print(\"Precision \", precision_score(y_test, y_pred2))\n",
    "# print(\"Recall / Sensifity \", recall_score(y_test, y_pred2))\n",
    "# print(\"F1 \", f1_score(y_test, y_pred2))\n",
    "# tn, fp, fn, tp = confusion_matrix(y_test, y_pred2).ravel()\n",
    "# specificity = tn / (tn+fp)\n",
    "# print(\"Specificity \", specificity)"
   ]
  },
  {
   "cell_type": "code",
   "execution_count": null,
   "metadata": {},
   "outputs": [],
   "source": [
    "# import sys\n",
    "# import numpy\n",
    "# numpy.set_printoptions(threshold=sys.maxsize)\n",
    "# print(X_test[:, selected_features_gwo])"
   ]
  },
  {
   "cell_type": "markdown",
   "metadata": {},
   "source": [
    "### Tanpa Seleksi Fitur"
   ]
  },
  {
   "cell_type": "code",
   "execution_count": null,
   "metadata": {},
   "outputs": [],
   "source": [
    "# svm1 = SVC(C=10, gamma=0.1, kernel='rbf')\n",
    "# svm1.fit(X_train, y_train).score(X_test, y_test)\n",
    "# y_pred1 = svm1.predict(X_test)\n",
    "\n",
    "# print(\"Accuracy \", accuracy_score(y_test,y_pred1))\n",
    "# print(\"Precision \", precision_score(y_test, y_pred1))\n",
    "# print(\"Recall / Sensifity \", recall_score(y_test, y_pred1))\n",
    "# print(\"F1 \", f1_score(y_test, y_pred1))\n",
    "# tn, fp, fn, tp = confusion_matrix(y_test, y_pred1).ravel()\n",
    "# specificity = tn / (tn+fp)\n",
    "# print(\"Specificity \", specificity)"
   ]
  },
  {
   "cell_type": "code",
   "execution_count": null,
   "metadata": {},
   "outputs": [],
   "source": [
    "# print(\"list of all selected features: \")\n",
    "# for i, feature in enumerate(data.columns[np.where(selected_features_gwo)], start=1):\n",
    "#     print(f\"{i}. {feature}\")"
   ]
  },
  {
   "cell_type": "markdown",
   "metadata": {},
   "source": [
    "### PSO"
   ]
  },
  {
   "cell_type": "code",
   "execution_count": null,
   "metadata": {},
   "outputs": [],
   "source": [
    "\n",
    "# from Fitness import Data\n",
    "# import PSO\n",
    "\n",
    "# d = Data('employee_class_on_right.csv',False, 3) # Object for Data\n",
    "# dim = d.getDimension()  # Dimensionality of the Features\n",
    "# selected_pso = PSO.run(d,dim,3) # invoking\n",
    "# selected_pso_bool = selected_pso.astype(bool)\n",
    "# print(selected_pso_bool)"
   ]
  },
  {
   "cell_type": "code",
   "execution_count": null,
   "metadata": {},
   "outputs": [],
   "source": [
    "# svm4 = SVC(C=10, gamma=0.1, kernel='rbf')\n",
    "# svm4.fit(X_train[:, selected_pso_bool], y_train)\n",
    "# y_pred4 = svm4.predict(X_test[:, selected_pso_bool])\n",
    "\n",
    "# print(\"Accuracy \", accuracy_score(y_test,y_pred4))\n",
    "# print(\"Precision \", precision_score(y_test, y_pred4))\n",
    "# print(\"Recall / Sensifity \", recall_score(y_test, y_pred4))\n",
    "# print(\"F1 \", f1_score(y_test, y_pred4))\n",
    "# tn, fp, fn, tp = confusion_matrix(y_test, y_pred4).ravel()\n",
    "# specificity = tn / (tn+fp)\n",
    "# print(\"Specificity \", specificity)"
   ]
  }
 ],
 "metadata": {
  "kernelspec": {
   "display_name": "Python 3",
   "language": "python",
   "name": "python3"
  },
  "language_info": {
   "codemirror_mode": {
    "name": "ipython",
    "version": 3
   },
   "file_extension": ".py",
   "mimetype": "text/x-python",
   "name": "python",
   "nbconvert_exporter": "python",
   "pygments_lexer": "ipython3",
   "version": "3.9.13"
  },
  "vscode": {
   "interpreter": {
    "hash": "11938c6bc6919ae2720b4d5011047913343b08a43b18698fd82dedb0d4417594"
   }
  }
 },
 "nbformat": 4,
 "nbformat_minor": 2
}
