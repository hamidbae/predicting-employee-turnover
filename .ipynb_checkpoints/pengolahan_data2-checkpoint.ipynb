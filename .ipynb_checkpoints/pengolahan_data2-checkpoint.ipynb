{
 "cells": [
  {
   "cell_type": "code",
   "execution_count": 1,
   "metadata": {},
   "outputs": [],
   "source": [
    "import numpy as np\n",
    "import pandas as pd\n",
    "from sklearn.svm import SVC\n",
    "from sklearn.model_selection import train_test_split\n",
    "from sklearn.preprocessing import LabelEncoder, MinMaxScaler\n",
    "from abcde import BGWOPSO\n",
    "import functools"
   ]
  },
  {
   "cell_type": "code",
   "execution_count": 2,
   "metadata": {},
   "outputs": [
    {
     "data": {
      "text/plain": [
       "Age                           43\n",
       "Attrition                      2\n",
       "BusinessTravel                 3\n",
       "DailyRate                    886\n",
       "Department                     3\n",
       "DistanceFromHome              29\n",
       "Education                      5\n",
       "EducationField                 6\n",
       "EmployeeCount                  1\n",
       "EmployeeNumber              1470\n",
       "EnvironmentSatisfaction        4\n",
       "Gender                         2\n",
       "HourlyRate                    71\n",
       "JobInvolvement                 4\n",
       "JobLevel                       5\n",
       "JobRole                        9\n",
       "JobSatisfaction                4\n",
       "MaritalStatus                  3\n",
       "MonthlyIncome               1349\n",
       "MonthlyRate                 1427\n",
       "NumCompaniesWorked            10\n",
       "Over18                         1\n",
       "OverTime                       2\n",
       "PercentSalaryHike             15\n",
       "PerformanceRating              2\n",
       "RelationshipSatisfaction       4\n",
       "StandardHours                  1\n",
       "StockOptionLevel               4\n",
       "TotalWorkingYears             40\n",
       "TrainingTimesLastYear          7\n",
       "WorkLifeBalance                4\n",
       "YearsAtCompany                37\n",
       "YearsInCurrentRole            19\n",
       "YearsSinceLastPromotion       16\n",
       "YearsWithCurrManager          18\n",
       "dtype: int64"
      ]
     },
     "execution_count": 2,
     "metadata": {},
     "output_type": "execute_result"
    }
   ],
   "source": [
    "data = pd.read_csv(\"employee.csv\")\n",
    "data.nunique()"
   ]
  },
  {
   "cell_type": "code",
   "execution_count": 3,
   "metadata": {},
   "outputs": [],
   "source": [
    "data = data.drop(columns=[\"Over18\", \"EmployeeCount\", \"StandardHours\"],axis=1)"
   ]
  },
  {
   "cell_type": "code",
   "execution_count": 4,
   "metadata": {},
   "outputs": [
    {
     "data": {
      "text/plain": [
       "Age                           43\n",
       "Attrition                      2\n",
       "BusinessTravel                 3\n",
       "DailyRate                    886\n",
       "Department                     3\n",
       "DistanceFromHome              29\n",
       "Education                      5\n",
       "EducationField                 6\n",
       "EmployeeNumber              1470\n",
       "EnvironmentSatisfaction        4\n",
       "Gender                         2\n",
       "HourlyRate                    71\n",
       "JobInvolvement                 4\n",
       "JobLevel                       5\n",
       "JobRole                        9\n",
       "JobSatisfaction                4\n",
       "MaritalStatus                  3\n",
       "MonthlyIncome               1349\n",
       "MonthlyRate                 1427\n",
       "NumCompaniesWorked            10\n",
       "OverTime                       2\n",
       "PercentSalaryHike             15\n",
       "PerformanceRating              2\n",
       "RelationshipSatisfaction       4\n",
       "StockOptionLevel               4\n",
       "TotalWorkingYears             40\n",
       "TrainingTimesLastYear          7\n",
       "WorkLifeBalance                4\n",
       "YearsAtCompany                37\n",
       "YearsInCurrentRole            19\n",
       "YearsSinceLastPromotion       16\n",
       "YearsWithCurrManager          18\n",
       "dtype: int64"
      ]
     },
     "execution_count": 4,
     "metadata": {},
     "output_type": "execute_result"
    }
   ],
   "source": [
    "data.nunique()"
   ]
  },
  {
   "cell_type": "code",
   "execution_count": 5,
   "metadata": {},
   "outputs": [
    {
     "name": "stdout",
     "output_type": "stream",
     "text": [
      "<class 'pandas.core.frame.DataFrame'>\n",
      "RangeIndex: 1470 entries, 0 to 1469\n",
      "Data columns (total 32 columns):\n",
      " #   Column                    Non-Null Count  Dtype \n",
      "---  ------                    --------------  ----- \n",
      " 0   Age                       1470 non-null   int64 \n",
      " 1   Attrition                 1470 non-null   object\n",
      " 2   BusinessTravel            1470 non-null   object\n",
      " 3   DailyRate                 1470 non-null   int64 \n",
      " 4   Department                1470 non-null   object\n",
      " 5   DistanceFromHome          1470 non-null   int64 \n",
      " 6   Education                 1470 non-null   int64 \n",
      " 7   EducationField            1470 non-null   object\n",
      " 8   EmployeeNumber            1470 non-null   int64 \n",
      " 9   EnvironmentSatisfaction   1470 non-null   int64 \n",
      " 10  Gender                    1470 non-null   object\n",
      " 11  HourlyRate                1470 non-null   int64 \n",
      " 12  JobInvolvement            1470 non-null   int64 \n",
      " 13  JobLevel                  1470 non-null   int64 \n",
      " 14  JobRole                   1470 non-null   object\n",
      " 15  JobSatisfaction           1470 non-null   int64 \n",
      " 16  MaritalStatus             1470 non-null   object\n",
      " 17  MonthlyIncome             1470 non-null   int64 \n",
      " 18  MonthlyRate               1470 non-null   int64 \n",
      " 19  NumCompaniesWorked        1470 non-null   int64 \n",
      " 20  OverTime                  1470 non-null   object\n",
      " 21  PercentSalaryHike         1470 non-null   int64 \n",
      " 22  PerformanceRating         1470 non-null   int64 \n",
      " 23  RelationshipSatisfaction  1470 non-null   int64 \n",
      " 24  StockOptionLevel          1470 non-null   int64 \n",
      " 25  TotalWorkingYears         1470 non-null   int64 \n",
      " 26  TrainingTimesLastYear     1470 non-null   int64 \n",
      " 27  WorkLifeBalance           1470 non-null   int64 \n",
      " 28  YearsAtCompany            1470 non-null   int64 \n",
      " 29  YearsInCurrentRole        1470 non-null   int64 \n",
      " 30  YearsSinceLastPromotion   1470 non-null   int64 \n",
      " 31  YearsWithCurrManager      1470 non-null   int64 \n",
      "dtypes: int64(24), object(8)\n",
      "memory usage: 367.6+ KB\n"
     ]
    }
   ],
   "source": [
    "data.info()"
   ]
  },
  {
   "cell_type": "code",
   "execution_count": 6,
   "metadata": {},
   "outputs": [],
   "source": [
    "objectList = data.select_dtypes(include = \"object\").columns.to_list()\n",
    "nonObjectList = data.select_dtypes(exclude=\"object\").columns.to_list()"
   ]
  },
  {
   "cell_type": "code",
   "execution_count": 7,
   "metadata": {},
   "outputs": [],
   "source": [
    "for x in [\"Education\", 'EnvironmentSatisfaction', \"JobInvolvement\", \"JobLevel\", \"JobSatisfaction\", \"PerformanceRating\", \"RelationshipSatisfaction\", \"StockOptionLevel\", \"WorkLifeBalance\"]:\n",
    "    nonObjectList.remove(x)\n",
    "    objectList.append(x)"
   ]
  },
  {
   "cell_type": "code",
   "execution_count": 8,
   "metadata": {},
   "outputs": [],
   "source": [
    "scaler = MinMaxScaler()\n",
    "le = LabelEncoder()\n",
    "for object in objectList:\n",
    "    data[object] = le.fit_transform(data[object])\n",
    "    data[object] = scaler.fit_transform(data[object].values.reshape(-1,1))\n",
    "\n",
    "for nonObject in nonObjectList:\n",
    "    data[nonObject] = scaler.fit_transform(data[nonObject].values.reshape(-1,1))"
   ]
  },
  {
   "cell_type": "code",
   "execution_count": 9,
   "metadata": {},
   "outputs": [],
   "source": [
    "X = data.drop(\"Attrition\", axis=1).values\n",
    "y = data[\"Attrition\"].values"
   ]
  },
  {
   "cell_type": "code",
   "execution_count": 10,
   "metadata": {},
   "outputs": [],
   "source": [
    "cat_index = [data.columns.get_loc(c) for c in objectList if c in data.drop('Attrition', axis=1)]"
   ]
  },
  {
   "cell_type": "code",
   "execution_count": 11,
   "metadata": {},
   "outputs": [],
   "source": [
    "X_train, X_test, y_train, y_test = train_test_split(X, y, test_size=0.2, random_state=42, shuffle=True, stratify=y)"
   ]
  },
  {
   "cell_type": "code",
   "execution_count": 12,
   "metadata": {},
   "outputs": [],
   "source": [
    "def fitness(x, X_train, X_test, y_train, y_test):\n",
    "    alpha = 0.99\n",
    "    beta = 1-alpha\n",
    "    if x.ndim == 1:\n",
    "        x = x.reshape(1, -1)\n",
    "    loss = np.zeros(x.shape[0])\n",
    "    for i in range(x.shape[0]):\n",
    "        if np.sum(x[i, :]) > 0:\n",
    "            model = SVC(C=10, gamma=0.1, kernel='rbf')\n",
    "            model.fit(X_train[:, x[i,:].astype(bool)], y_train)\n",
    "            acc = model.score(X_test[:, x[i,:].astype(bool)], y_test)\n",
    "            error_rate = 1 - acc\n",
    "            loss[i] = alpha * error_rate + beta * (np.sum(x[i, :]) / X.shape[1])\n",
    "        else:\n",
    "            loss[i] = np.inf\n",
    "    return loss"
   ]
  },
  {
   "cell_type": "code",
   "execution_count": 13,
   "metadata": {},
   "outputs": [
    {
     "name": "stdout",
     "output_type": "stream",
     "text": [
      "2.0\n",
      "1.9714285714285715\n",
      "1.9428571428571428\n",
      "1.9142857142857144\n",
      "1.8857142857142857\n",
      "1.8571428571428572\n",
      "1.8285714285714285\n",
      "1.8\n",
      "1.7714285714285714\n",
      "1.7428571428571429\n",
      "1.7142857142857144\n",
      "1.6857142857142857\n",
      "1.657142857142857\n",
      "1.6285714285714286\n",
      "1.6\n",
      "1.5714285714285714\n",
      "1.542857142857143\n",
      "1.5142857142857142\n",
      "1.4857142857142858\n",
      "1.4571428571428573\n",
      "1.4285714285714286\n",
      "1.4\n",
      "1.3714285714285714\n",
      "1.342857142857143\n",
      "1.3142857142857143\n",
      "1.2857142857142856\n",
      "1.2571428571428571\n",
      "1.2285714285714286\n",
      "1.2\n",
      "1.1714285714285713\n",
      "1.1428571428571428\n",
      "1.1142857142857143\n",
      "1.0857142857142859\n",
      "1.0571428571428572\n",
      "1.0285714285714285\n",
      "1.0\n",
      "0.9714285714285715\n",
      "0.9428571428571428\n",
      "0.9142857142857144\n",
      "0.8857142857142857\n",
      "0.8571428571428572\n",
      "0.8285714285714285\n",
      "0.8\n",
      "0.7714285714285714\n",
      "0.7428571428571429\n",
      "0.7142857142857142\n",
      "0.6857142857142857\n",
      "0.6571428571428573\n",
      "0.6285714285714286\n",
      "0.6000000000000001\n",
      "0.5714285714285714\n",
      "0.5428571428571429\n",
      "0.5142857142857142\n",
      "0.48571428571428577\n",
      "0.4571428571428571\n",
      "0.4285714285714286\n",
      "0.3999999999999999\n",
      "0.37142857142857144\n",
      "0.34285714285714275\n",
      "0.3142857142857143\n",
      "0.2857142857142858\n",
      "0.2571428571428571\n",
      "0.22857142857142865\n",
      "0.19999999999999996\n",
      "0.17142857142857149\n",
      "0.1428571428571428\n",
      "0.11428571428571432\n",
      "0.08571428571428563\n",
      "0.05714285714285716\n",
      "0.02857142857142847\n"
     ]
    }
   ],
   "source": [
    "lossfunc = functools.partial(fitness, X_train=X_train, X_test=X_test, y_train=y_train, y_test=y_test)\n",
    "\n",
    "optimizer = BGWOPSO(lossfunc, X_train.shape[1], 8, 70)\n",
    "optimizer.opt()\n",
    "selected_features = optimizer.gBest_X.astype(bool)"
   ]
  },
  {
   "cell_type": "markdown",
   "metadata": {},
   "source": [
    "tanpa SF"
   ]
  },
  {
   "cell_type": "code",
   "execution_count": 14,
   "metadata": {},
   "outputs": [
    {
     "data": {
      "text/plain": [
       "0.8639455782312925"
      ]
     },
     "execution_count": 14,
     "metadata": {},
     "output_type": "execute_result"
    }
   ],
   "source": [
    "svm = SVC(C=10, gamma=0.1, kernel='rbf')\n",
    "svm.fit(X_train, y_train).score(X_test, y_test)"
   ]
  },
  {
   "cell_type": "markdown",
   "metadata": {},
   "source": [
    "pake SF"
   ]
  },
  {
   "cell_type": "code",
   "execution_count": 15,
   "metadata": {},
   "outputs": [
    {
     "name": "stdout",
     "output_type": "stream",
     "text": [
      "list of all selected features: \n",
      "1. Age\n",
      "2. Attrition\n",
      "3. BusinessTravel\n",
      "4. DailyRate\n",
      "5. DistanceFromHome\n",
      "6. EducationField\n",
      "7. EmployeeNumber\n",
      "8. HourlyRate\n",
      "9. JobInvolvement\n",
      "10. JobLevel\n",
      "11. JobRole\n",
      "12. MonthlyIncome\n",
      "13. MonthlyRate\n",
      "14. NumCompaniesWorked\n",
      "15. PercentSalaryHike\n",
      "16. RelationshipSatisfaction\n",
      "17. StockOptionLevel\n",
      "18. TrainingTimesLastYear\n",
      "19. YearsAtCompany\n",
      "20. YearsInCurrentRole\n",
      "21. YearsSinceLastPromotion\n"
     ]
    }
   ],
   "source": [
    "print(\"list of all selected features: \")\n",
    "for i, feature in enumerate(data.columns[np.where(selected_features)], start=1):\n",
    "    print(f\"{i}. {feature}\")"
   ]
  },
  {
   "cell_type": "code",
   "execution_count": 16,
   "metadata": {},
   "outputs": [
    {
     "data": {
      "text/plain": [
       "0.891156462585034"
      ]
     },
     "execution_count": 16,
     "metadata": {},
     "output_type": "execute_result"
    }
   ],
   "source": [
    "svm.fit(X_train[:, selected_features], y_train).score(X_test[:, selected_features], y_test)"
   ]
  }
 ],
 "metadata": {
  "kernelspec": {
   "display_name": "Python 3",
   "language": "python",
   "name": "python3"
  },
  "language_info": {
   "codemirror_mode": {
    "name": "ipython",
    "version": 3
   },
   "file_extension": ".py",
   "mimetype": "text/x-python",
   "name": "python",
   "nbconvert_exporter": "python",
   "pygments_lexer": "ipython3",
   "version": "3.9.13"
  },
  "vscode": {
   "interpreter": {
    "hash": "11938c6bc6919ae2720b4d5011047913343b08a43b18698fd82dedb0d4417594"
   }
  }
 },
 "nbformat": 4,
 "nbformat_minor": 2
}
