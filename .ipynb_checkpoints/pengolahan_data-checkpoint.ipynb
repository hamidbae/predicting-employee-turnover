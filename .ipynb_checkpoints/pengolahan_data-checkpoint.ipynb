{
 "cells": [
  {
   "cell_type": "code",
   "execution_count": 1,
   "metadata": {},
   "outputs": [],
   "source": [
    "import numpy as np\n",
    "import pandas as pd\n",
    "from sklearn.svm import SVC\n",
    "from sklearn.model_selection import train_test_split\n",
    "from sklearn.preprocessing import LabelEncoder, MinMaxScaler, StandardScaler\n",
    "from imblearn.over_sampling import SMOTENC\n",
    "from imblearn.under_sampling import EditedNearestNeighbours\n",
    "from imblearn.pipeline import make_pipeline\n",
    "from sklearn.metrics import confusion_matrix, ConfusionMatrixDisplay\n",
    "from BGWOPSO import BGWOPSO\n",
    "from GWO import GWO\n",
    "import functools"
   ]
  },
  {
   "cell_type": "code",
   "execution_count": 2,
   "metadata": {},
   "outputs": [
    {
     "name": "stdout",
     "output_type": "stream",
     "text": [
      "(1470, 35)\n"
     ]
    }
   ],
   "source": [
    "data = pd.read_csv(\"employee.csv\")\n",
    "print(data.shape)\n",
    "data = data.drop(columns=[\"Over18\", \"EmployeeCount\", \"StandardHours\"],axis=1)"
   ]
  },
  {
   "cell_type": "code",
   "execution_count": 3,
   "metadata": {},
   "outputs": [
    {
     "data": {
      "text/plain": [
       "Age                           43\n",
       "Attrition                      2\n",
       "BusinessTravel                 3\n",
       "DailyRate                    886\n",
       "Department                     3\n",
       "DistanceFromHome              29\n",
       "Education                      5\n",
       "EducationField                 6\n",
       "EmployeeNumber              1470\n",
       "EnvironmentSatisfaction        4\n",
       "Gender                         2\n",
       "HourlyRate                    71\n",
       "JobInvolvement                 4\n",
       "JobLevel                       5\n",
       "JobRole                        9\n",
       "JobSatisfaction                4\n",
       "MaritalStatus                  3\n",
       "MonthlyIncome               1349\n",
       "MonthlyRate                 1427\n",
       "NumCompaniesWorked            10\n",
       "OverTime                       2\n",
       "PercentSalaryHike             15\n",
       "PerformanceRating              2\n",
       "RelationshipSatisfaction       4\n",
       "StockOptionLevel               4\n",
       "TotalWorkingYears             40\n",
       "TrainingTimesLastYear          7\n",
       "WorkLifeBalance                4\n",
       "YearsAtCompany                37\n",
       "YearsInCurrentRole            19\n",
       "YearsSinceLastPromotion       16\n",
       "YearsWithCurrManager          18\n",
       "dtype: int64"
      ]
     },
     "execution_count": 3,
     "metadata": {},
     "output_type": "execute_result"
    }
   ],
   "source": [
    "data.nunique()"
   ]
  },
  {
   "cell_type": "code",
   "execution_count": 4,
   "metadata": {},
   "outputs": [
    {
     "name": "stdout",
     "output_type": "stream",
     "text": [
      "<class 'pandas.core.frame.DataFrame'>\n",
      "RangeIndex: 1470 entries, 0 to 1469\n",
      "Data columns (total 32 columns):\n",
      " #   Column                    Non-Null Count  Dtype \n",
      "---  ------                    --------------  ----- \n",
      " 0   Age                       1470 non-null   int64 \n",
      " 1   Attrition                 1470 non-null   object\n",
      " 2   BusinessTravel            1470 non-null   object\n",
      " 3   DailyRate                 1470 non-null   int64 \n",
      " 4   Department                1470 non-null   object\n",
      " 5   DistanceFromHome          1470 non-null   int64 \n",
      " 6   Education                 1470 non-null   int64 \n",
      " 7   EducationField            1470 non-null   object\n",
      " 8   EmployeeNumber            1470 non-null   int64 \n",
      " 9   EnvironmentSatisfaction   1470 non-null   int64 \n",
      " 10  Gender                    1470 non-null   object\n",
      " 11  HourlyRate                1470 non-null   int64 \n",
      " 12  JobInvolvement            1470 non-null   int64 \n",
      " 13  JobLevel                  1470 non-null   int64 \n",
      " 14  JobRole                   1470 non-null   object\n",
      " 15  JobSatisfaction           1470 non-null   int64 \n",
      " 16  MaritalStatus             1470 non-null   object\n",
      " 17  MonthlyIncome             1470 non-null   int64 \n",
      " 18  MonthlyRate               1470 non-null   int64 \n",
      " 19  NumCompaniesWorked        1470 non-null   int64 \n",
      " 20  OverTime                  1470 non-null   object\n",
      " 21  PercentSalaryHike         1470 non-null   int64 \n",
      " 22  PerformanceRating         1470 non-null   int64 \n",
      " 23  RelationshipSatisfaction  1470 non-null   int64 \n",
      " 24  StockOptionLevel          1470 non-null   int64 \n",
      " 25  TotalWorkingYears         1470 non-null   int64 \n",
      " 26  TrainingTimesLastYear     1470 non-null   int64 \n",
      " 27  WorkLifeBalance           1470 non-null   int64 \n",
      " 28  YearsAtCompany            1470 non-null   int64 \n",
      " 29  YearsInCurrentRole        1470 non-null   int64 \n",
      " 30  YearsSinceLastPromotion   1470 non-null   int64 \n",
      " 31  YearsWithCurrManager      1470 non-null   int64 \n",
      "dtypes: int64(24), object(8)\n",
      "memory usage: 367.6+ KB\n"
     ]
    }
   ],
   "source": [
    "data.info()"
   ]
  },
  {
   "cell_type": "code",
   "execution_count": 5,
   "metadata": {},
   "outputs": [],
   "source": [
    "objectList = data.select_dtypes(include = \"object\").columns.to_list()\n",
    "nonObjectList = data.select_dtypes(exclude=\"object\").columns.to_list()"
   ]
  },
  {
   "cell_type": "code",
   "execution_count": 6,
   "metadata": {},
   "outputs": [],
   "source": [
    "for x in [\"Education\", 'EnvironmentSatisfaction', \"JobInvolvement\", \"JobLevel\", \"JobSatisfaction\", \"PerformanceRating\", \"RelationshipSatisfaction\", \"StockOptionLevel\", \"WorkLifeBalance\"]:\n",
    "    nonObjectList.remove(x)\n",
    "    objectList.append(x)"
   ]
  },
  {
   "cell_type": "code",
   "execution_count": 7,
   "metadata": {},
   "outputs": [],
   "source": [
    "scaler = MinMaxScaler()\n",
    "le = LabelEncoder()\n",
    "for object in objectList:\n",
    "    data[object] = le.fit_transform(data[object])\n",
    "    data[object] = scaler.fit_transform(data[object].values.reshape(-1,1))\n",
    "\n",
    "for nonObject in nonObjectList:\n",
    "    data[nonObject] = scaler.fit_transform(data[nonObject].values.reshape(-1,1))"
   ]
  },
  {
   "cell_type": "code",
   "execution_count": 8,
   "metadata": {},
   "outputs": [],
   "source": [
    "data_class_right = data.drop(\"Attrition\",axis=1)\n",
    "data_class_right[\"Attrition\"] = data[\"Attrition\"]\n",
    "data_class_right.to_csv(\"employee_class_on_right.csv\", index=False, header=False)"
   ]
  },
  {
   "cell_type": "code",
   "execution_count": 9,
   "metadata": {},
   "outputs": [],
   "source": [
    "X = data.drop(\"Attrition\", axis=1).values\n",
    "y = data[\"Attrition\"].values"
   ]
  },
  {
   "cell_type": "code",
   "execution_count": 10,
   "metadata": {},
   "outputs": [],
   "source": [
    "cat_index = [data.columns.get_loc(c) for c in objectList if c in data.drop('Attrition', axis=1)]"
   ]
  },
  {
   "cell_type": "code",
   "execution_count": 11,
   "metadata": {},
   "outputs": [],
   "source": [
    "X_train, X_test, y_train, y_test = train_test_split(X, y, test_size=0.2, random_state=42, shuffle=True, stratify=y)"
   ]
  },
  {
   "cell_type": "markdown",
   "metadata": {},
   "source": [
    "### Seleksi Fitur BGWOPSO"
   ]
  },
  {
   "cell_type": "code",
   "execution_count": 12,
   "metadata": {},
   "outputs": [],
   "source": [
    "from sklearn.metrics import accuracy_score, f1_score, precision_score, recall_score\n",
    "from sklearn.metrics import confusion_matrix"
   ]
  },
  {
   "cell_type": "code",
   "execution_count": 13,
   "metadata": {},
   "outputs": [],
   "source": [
    "def fitness(x, X_train, X_test, y_train, y_test):\n",
    "    alpha = 0.99\n",
    "    beta = 1-alpha\n",
    "    if x.ndim == 1:\n",
    "        x = x.reshape(1, -1)\n",
    "    loss = np.zeros(x.shape[0])\n",
    "    for i in range(x.shape[0]):\n",
    "        if np.sum(x[i, :]) > 0:\n",
    "            model = SVC(C=10, gamma=0.1, kernel='rbf')\n",
    "            model.fit(X_train[:, x[i,:].astype(bool)], y_train)\n",
    "            acc = model.score(X_test[:, x[i,:].astype(bool)], y_test)\n",
    "            error_rate = 1 - acc\n",
    "            loss[i] = alpha * error_rate + beta * (np.sum(x[i, :]) / X.shape[1])\n",
    "        else:\n",
    "            loss[i] = np.inf\n",
    "    return loss"
   ]
  },
  {
   "cell_type": "code",
   "execution_count": 14,
   "metadata": {},
   "outputs": [],
   "source": [
    "# lossfunc_bgwopso = functools.partial(fitness, X_train=X_train, X_test=X_test, y_train=y_train, y_test=y_test)\n",
    "# optimizer_bgwopso = BGWOPSO(lossfunc_bgwopso, X_train.shape[1], 8, 70)\n",
    "# optimizer_bgwopso.opt()\n",
    "# selected_features_bgwopso = optimizer_bgwopso.gBest_X.astype(bool)\n",
    "# print(selected_features_bgwopso)"
   ]
  },
  {
   "cell_type": "code",
   "execution_count": 15,
   "metadata": {},
   "outputs": [],
   "source": [
    "# svm3 = SVC(C=10, gamma=0.1, kernel='rbf')\n",
    "# svm3.fit(X_train[:, selected_features_bgwopso], y_train)\n",
    "# y_pred3 = svm3.predict(X_test[:, selected_features_bgwopso])\n",
    "\n",
    "# print(\"Accuracy \", accuracy_score(y_test,y_pred3))\n",
    "# print(\"Precision \", precision_score(y_test, y_pred3))\n",
    "# print(\"Recall / Sensifity \", recall_score(y_test, y_pred3))\n",
    "# print(\"F1 \", f1_score(y_test, y_pred3))\n",
    "# tn, fp, fn, tp = confusion_matrix(y_test, y_pred3).ravel()\n",
    "# specificity = tn / (tn+fp)\n",
    "# print(\"Specificity \", specificity)"
   ]
  },
  {
   "cell_type": "markdown",
   "metadata": {},
   "source": [
    "### Seleksi Fitur GWO"
   ]
  },
  {
   "cell_type": "code",
   "execution_count": 16,
   "metadata": {},
   "outputs": [
    {
     "name": "stdout",
     "output_type": "stream",
     "text": [
      "Completed in 12.457212924957275\n",
      "[ 0  7  8 11 12 15 19 20 21 22 24 26 27]\n"
     ]
    }
   ],
   "source": [
    "lossfunc_gwo = functools.partial(fitness, X_train=X_train, X_test=X_test, y_train=y_train, y_test=y_test)\n",
    "fit_optimizer_gwo = GWO(lossfunc_gwo, 0, 1, X_train.shape[1], 10, 20)\n",
    "selected_features_gwo = np.where(fit_optimizer_gwo>0.5)[0]\n",
    "print(selected_features_gwo)"
   ]
  },
  {
   "cell_type": "code",
   "execution_count": 17,
   "metadata": {},
   "outputs": [
    {
     "name": "stdout",
     "output_type": "stream",
     "text": [
      "Accuracy  0.8469387755102041\n",
      "Precision  0.5625\n",
      "Recall / Sensifity  0.19148936170212766\n",
      "F1  0.2857142857142857\n",
      "Specificity  0.97165991902834\n"
     ]
    }
   ],
   "source": [
    "svm2 = SVC(C=10, gamma=0.1, kernel='rbf')\n",
    "svm2.fit(X_train[:, selected_features_gwo], y_train)\n",
    "y_pred2 = svm2.predict(X_test[:, selected_features_gwo])\n",
    "\n",
    "print(\"Accuracy \", accuracy_score(y_test,y_pred2))\n",
    "print(\"Precision \", precision_score(y_test, y_pred2))\n",
    "print(\"Recall / Sensifity \", recall_score(y_test, y_pred2))\n",
    "print(\"F1 \", f1_score(y_test, y_pred2))\n",
    "tn, fp, fn, tp = confusion_matrix(y_test, y_pred2).ravel()\n",
    "specificity = tn / (tn+fp)\n",
    "print(\"Specificity \", specificity)"
   ]
  },
  {
   "cell_type": "code",
   "execution_count": 18,
   "metadata": {},
   "outputs": [
    {
     "name": "stdout",
     "output_type": "stream",
     "text": [
      "[[0.14285714 0.72278665 1.         ... 0.025      0.66666667 0.025     ]\n",
      " [0.61904762 0.60232221 0.         ... 0.25       0.66666667 0.25      ]\n",
      " [0.30952381 0.29608128 0.66666667 ... 0.25       0.33333333 0.125     ]\n",
      " ...\n",
      " [0.42857143 0.83792937 0.33333333 ... 0.4        0.66666667 0.05      ]\n",
      " [0.9047619  0.69666183 0.         ... 0.125      1.         0.075     ]\n",
      " [0.45238095 0.18867925 1.         ... 0.425      0.66666667 0.425     ]]\n"
     ]
    }
   ],
   "source": [
    "# import sys\n",
    "# import numpy\n",
    "# numpy.set_printoptions(threshold=sys.maxsize)\n",
    "print(X_test[:, selected_features_gwo])"
   ]
  },
  {
   "cell_type": "markdown",
   "metadata": {},
   "source": [
    "### Tanpa Seleksi Fitur"
   ]
  },
  {
   "cell_type": "code",
   "execution_count": 19,
   "metadata": {},
   "outputs": [],
   "source": [
    "# svm1 = SVC(C=10, gamma=0.1, kernel='rbf')\n",
    "# svm1.fit(X_train, y_train).score(X_test, y_test)\n",
    "# y_pred1 = svm1.predict(X_test)\n",
    "\n",
    "# print(\"Accuracy \", accuracy_score(y_test,y_pred1))\n",
    "# print(\"Precision \", precision_score(y_test, y_pred1))\n",
    "# print(\"Recall / Sensifity \", recall_score(y_test, y_pred1))\n",
    "# print(\"F1 \", f1_score(y_test, y_pred1))\n",
    "# tn, fp, fn, tp = confusion_matrix(y_test, y_pred1).ravel()\n",
    "# specificity = tn / (tn+fp)\n",
    "# print(\"Specificity \", specificity)"
   ]
  },
  {
   "cell_type": "code",
   "execution_count": 20,
   "metadata": {},
   "outputs": [],
   "source": [
    "# print(\"list of all selected features: \")\n",
    "# for i, feature in enumerate(data.columns[np.where(selected_features_gwo)], start=1):\n",
    "#     print(f\"{i}. {feature}\")"
   ]
  },
  {
   "cell_type": "markdown",
   "metadata": {},
   "source": [
    "### PSO"
   ]
  },
  {
   "cell_type": "code",
   "execution_count": 21,
   "metadata": {},
   "outputs": [],
   "source": [
    "\n",
    "# from Fitness import Data\n",
    "# import PSO\n",
    "\n",
    "# d = Data('employee_class_on_right.csv',False, 3) # Object for Data\n",
    "# dim = d.getDimension()  # Dimensionality of the Features\n",
    "# selected_pso = PSO.run(d,dim,3) # invoking\n",
    "# selected_pso_bool = selected_pso.astype(bool)\n",
    "# print(selected_pso_bool)"
   ]
  },
  {
   "cell_type": "code",
   "execution_count": 22,
   "metadata": {},
   "outputs": [],
   "source": [
    "# svm4 = SVC(C=10, gamma=0.1, kernel='rbf')\n",
    "# svm4.fit(X_train[:, selected_pso_bool], y_train)\n",
    "# y_pred4 = svm4.predict(X_test[:, selected_pso_bool])\n",
    "\n",
    "# print(\"Accuracy \", accuracy_score(y_test,y_pred4))\n",
    "# print(\"Precision \", precision_score(y_test, y_pred4))\n",
    "# print(\"Recall / Sensifity \", recall_score(y_test, y_pred4))\n",
    "# print(\"F1 \", f1_score(y_test, y_pred4))\n",
    "# tn, fp, fn, tp = confusion_matrix(y_test, y_pred4).ravel()\n",
    "# specificity = tn / (tn+fp)\n",
    "# print(\"Specificity \", specificity)"
   ]
  }
 ],
 "metadata": {
  "kernelspec": {
   "display_name": "Python 3",
   "language": "python",
   "name": "python3"
  },
  "language_info": {
   "codemirror_mode": {
    "name": "ipython",
    "version": 3
   },
   "file_extension": ".py",
   "mimetype": "text/x-python",
   "name": "python",
   "nbconvert_exporter": "python",
   "pygments_lexer": "ipython3",
   "version": "3.9.13"
  },
  "vscode": {
   "interpreter": {
    "hash": "11938c6bc6919ae2720b4d5011047913343b08a43b18698fd82dedb0d4417594"
   }
  }
 },
 "nbformat": 4,
 "nbformat_minor": 2
}
